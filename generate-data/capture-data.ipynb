{
 "cells": [
  {
   "cell_type": "code",
   "execution_count": 1,
   "metadata": {},
   "outputs": [],
   "source": [
    "# This functionality is also implemented in the application. Use it for better user experience.\n",
    "\n",
    "import serial\n",
    "import pandas as pd\n",
    "from pandas import Series, DataFrame"
   ]
  },
  {
   "cell_type": "code",
   "execution_count": 4,
   "metadata": {},
   "outputs": [],
   "source": [
    "def readLine(s):\n",
    "    sensor_step = s.readline().decode().strip().split(\",\")\n",
    "    return sensor_step"
   ]
  },
  {
   "cell_type": "code",
   "execution_count": 8,
   "metadata": {},
   "outputs": [
    {
     "name": "stdout",
     "output_type": "stream",
     "text": [
      "INITIATING\n",
      "READY FOR stationary\n",
      "1\n",
      "2\n",
      "3\n",
      "START stationary\n",
      "STOP stationary\n",
      "READY FOR misc\n",
      "1\n",
      "2\n",
      "3\n",
      "START misc\n",
      "STOP misc\n"
     ]
    }
   ],
   "source": [
    "s = serial.Serial('COM3', 9600, timeout=1)\n",
    "\n",
    "guestures = [\n",
    "    \"rub_palms\",\n",
    "    \"palm_over_dorsum_left\",\n",
    "    \"palm_over_dorsum_right\",\n",
    "    \"palm_to_palm\",\n",
    "    \"fingers_interlocked\",\n",
    "    \"thumb_rub_left\",\n",
    "    \"thumb_rub_right\",\n",
    "    \"palms_with_fingers_left\",\n",
    "    \"palms_with_fingers_right\",\n",
    "    \"misc\",\n",
    "]\n",
    "\n",
    "sensor_step = readLine(s)\n",
    "print(\"INITIATING\")\n",
    "while sensor_step[0] != \"# 1\": #wait till it is a begining\n",
    "    sensor_step = readLine(s)\n",
    "\n",
    "columns = [\"aX\", \"aY\", \"aZ\", \"gX\", \"gY\", \"gZ\"]\n",
    "for i, guesture in enumerate(guestures):\n",
    "    print(f\"READY FOR {guesture}\")\n",
    "    df = DataFrame(columns=columns)\n",
    "    while sensor_step[0][0] == \"#\":\n",
    "        if sensor_step[0][1] == \" \":\n",
    "            print(sensor_step[0][2])\n",
    "        sensor_step = readLine(s)\n",
    "          \n",
    "    print(f\"START {guesture}\")\n",
    "    sensor_step_float = tuple(map(float, sensor_step))\n",
    "    df = df.append(Series(sensor_step_float, index=columns),ignore_index=True)\n",
    "    while True:\n",
    "        sensor_step = readLine(s)\n",
    "        if sensor_step[0][0] == \"#\": break\n",
    "        sensor_step_float = tuple(map(float, sensor_step))\n",
    "        df = df.append(Series(sensor_step_float, index=columns),ignore_index=True)\n",
    "\n",
    "    print(f\"STOP {guesture}\")\n",
    "    df.to_csv(f\"exports/data_60s/{guesture}.csv\", index=False)"
   ]
  },
  {
   "cell_type": "code",
   "execution_count": 6,
   "metadata": {},
   "outputs": [],
   "source": [
    "s.close()"
   ]
  },
  {
   "cell_type": "code",
   "execution_count": null,
   "metadata": {},
   "outputs": [],
   "source": []
  }
 ],
 "metadata": {
  "kernelspec": {
   "display_name": "Python 3.8.8 ('base')",
   "language": "python",
   "name": "python3"
  },
  "language_info": {
   "codemirror_mode": {
    "name": "ipython",
    "version": 3
   },
   "file_extension": ".py",
   "mimetype": "text/x-python",
   "name": "python",
   "nbconvert_exporter": "python",
   "pygments_lexer": "ipython3",
   "version": "3.8.8"
  },
  "orig_nbformat": 4,
  "vscode": {
   "interpreter": {
    "hash": "4b4033a05a94c747d387bb606f44bd6bd665fbcec7c2c50c8b3ac5513fc03f7b"
   }
  }
 },
 "nbformat": 4,
 "nbformat_minor": 2
}
